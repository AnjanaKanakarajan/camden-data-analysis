{
 "cells": [
  {
   "cell_type": "code",
   "execution_count": 2,
   "metadata": {},
   "outputs": [
    {
     "name": "stdout",
     "output_type": "stream",
     "text": [
      "1000\n",
      "{'name_1': 'N17 8HF', 'local_type': 'Postcode', 'district_borough': 'Haringey', 'easting': '533094', 'northing': '191529', 'longitude': '-0.079418', 'latitude': '51.606877'}\n"
     ]
    }
   ],
   "source": [
    "# USED FOR PARSING JSON:\n",
    "import json\n",
    "# USED TO ACCESS SODA (in Python 3.x, urllib2 is replaced with urllib.request):\n",
    "import urllib.request\n",
    "import pandas as pd\n",
    "\n",
    "# THE API CALL:\n",
    "apiURL = \"https://opendata.camden.gov.uk/resource/ndrn-zq36.json?$select=name_1,local_type,district_borough,easting,northing,longitude,latitude\"\n",
    "\n",
    "# TRIGGER THE API CALL:\n",
    "with urllib.request.urlopen(apiURL) as dataGet:\n",
    "    # STORE RECORDS IN JSON OBJECT:\n",
    "    dataResponse = json.load(dataGet)\n",
    "\n",
    "# GET THE NUMBER OF RECORDS:\n",
    "dataResults = len(dataResponse)\n",
    "\n",
    "\n",
    "print(dataResults)\n",
    "\n",
    "print(dataResponse[0])"
   ]
  },
  {
   "cell_type": "code",
   "execution_count": 3,
   "metadata": {},
   "outputs": [
    {
     "name": "stdout",
     "output_type": "stream",
     "text": [
      "    name_1 local_type     district_borough easting northing  longitude  \\\n",
      "0  N17 8HF   Postcode             Haringey  533094   191529  -0.079418   \n",
      "1  EN4 9JT   Postcode               Barnet  527746   196073  -0.154945   \n",
      "2  W1W 5DD   Postcode  City of Westminster  528861   182174  -0.143936   \n",
      "3   N1 8SD   Postcode            Islington  532134   183998  -0.096101   \n",
      "4  NW3 6EH   Postcode               Camden  526105   185013  -0.182624   \n",
      "\n",
      "    latitude  \n",
      "0  51.606877  \n",
      "1  51.648951  \n",
      "2  51.523791  \n",
      "3  51.539427  \n",
      "4  51.549927  \n",
      "Index(['name_1', 'local_type', 'district_borough', 'easting', 'northing',\n",
      "       'longitude', 'latitude'],\n",
      "      dtype='object')\n"
     ]
    }
   ],
   "source": [
    "# Convert to DataFrame\n",
    "df = pd.DataFrame(dataResponse)\n",
    "\n",
    "# Print the DataFrame\n",
    "print(df.head())\n",
    "\n",
    "print(df.columns)"
   ]
  }
 ],
 "metadata": {
  "kernelspec": {
   "display_name": "Python 3",
   "language": "python",
   "name": "python3"
  },
  "language_info": {
   "codemirror_mode": {
    "name": "ipython",
    "version": 3
   },
   "file_extension": ".py",
   "mimetype": "text/x-python",
   "name": "python",
   "nbconvert_exporter": "python",
   "pygments_lexer": "ipython3",
   "version": "3.10.10"
  }
 },
 "nbformat": 4,
 "nbformat_minor": 2
}
